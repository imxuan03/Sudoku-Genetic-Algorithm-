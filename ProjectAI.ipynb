{
 "cells": [
  {
   "cell_type": "markdown",
   "id": "f61055e0",
   "metadata": {},
   "source": [
    "# Genetic Algorithm"
   ]
  },
  {
   "cell_type": "code",
   "execution_count": 14,
   "id": "8bd63cc2",
   "metadata": {
    "ExecuteTime": {
     "end_time": "2023-05-29T11:29:10.920391670Z",
     "start_time": "2023-05-29T11:29:10.920047102Z"
    }
   },
   "outputs": [],
   "source": [
    "import random as rndm\n",
    "import time"
   ]
  },
  {
   "cell_type": "markdown",
   "id": "6527cc01",
   "metadata": {},
   "source": [
    "## Part 1: Make Genes and Chromosomes"
   ]
  },
  {
   "cell_type": "code",
   "execution_count": 15,
   "id": "62151fed",
   "metadata": {
    "ExecuteTime": {
     "end_time": "2023-05-29T11:29:12.531465713Z",
     "start_time": "2023-05-29T11:29:12.480669591Z"
    }
   },
   "outputs": [],
   "source": [
    "def check_initial(gene, initial):\n",
    "    mapp = {}\n",
    "    for i in range(9):\n",
    "        mapp[gene[i]] = i\n",
    "    for i in range(9):\n",
    "        if initial[i] != 0 and gene[i] != initial[i]:\n",
    "            temp = gene[i], gene[mapp[initial[i]]]\n",
    "            gene[mapp[initial[i]]], gene[i] = temp\n",
    "            mapp[initial[i]], mapp[temp[0]] = i, mapp[initial[i]]\n",
    "    return gene \n",
    "\n",
    "def make_gene(initial=None):\n",
    "    if initial is None:\n",
    "        initial = [0] * 9\n",
    "    gene = list(range(1, 10))\n",
    "    rndm.shuffle(gene)\n",
    "    gene = check_initial(gene, initial)\n",
    "    return gene"
   ]
  },
  {
   "cell_type": "code",
   "execution_count": 16,
   "id": "61cc7916",
   "metadata": {
    "ExecuteTime": {
     "end_time": "2023-05-29T11:29:12.690242698Z",
     "start_time": "2023-05-29T11:29:12.674358921Z"
    }
   },
   "outputs": [],
   "source": [
    "def make_chromosome(initial=None):\n",
    "    if initial is None:\n",
    "        initial = [[0] * 9] * 9\n",
    "    chromosome = []\n",
    "    for i in range(9):\n",
    "        chromosome.append(make_gene(initial[i]))\n",
    "    return chromosome"
   ]
  },
  {
   "cell_type": "markdown",
   "id": "be99629e",
   "metadata": {},
   "source": [
    "## Part 2: Making First Generation"
   ]
  },
  {
   "cell_type": "code",
   "execution_count": 17,
   "id": "ed4d7238",
   "metadata": {
    "ExecuteTime": {
     "end_time": "2023-05-29T11:29:13.834764530Z",
     "start_time": "2023-05-29T11:29:13.791140818Z"
    }
   },
   "outputs": [],
   "source": [
    "def make_population(count, initial=None):\n",
    "    if initial is None:\n",
    "        initial = [[0] * 9] * 9\n",
    "    population = []\n",
    "    for _ in range(count):\n",
    "        population.append(make_chromosome(initial))\n",
    "    return population"
   ]
  },
  {
   "cell_type": "markdown",
   "id": "2dce4969",
   "metadata": {},
   "source": [
    "## Part 3: Fitness Function"
   ]
  },
  {
   "cell_type": "code",
   "execution_count": 18,
   "metadata": {
    "ExecuteTime": {
     "end_time": "2023-05-29T11:29:14.742392976Z",
     "start_time": "2023-05-29T11:29:14.726582520Z"
    },
    "collapsed": false
   },
   "outputs": [],
   "source": [
    "def get_fitness(chromosome):\n",
    "    \"\"\"Calculate the fitness of a chromosome (puzzle).\"\"\"\n",
    "    fitness = 0\n",
    "    for i in range(9): # For each column\n",
    "        seen = {}\n",
    "        for j in range(9): # Check each cell in the column\n",
    "            if chromosome[j][i] in seen:\n",
    "                seen[chromosome[j][i]] += 1\n",
    "            else:\n",
    "                seen[chromosome[j][i]] = 1\n",
    "        for key in seen: # Subtract fitness for repeated numbers\n",
    "            fitness -= (seen[key] - 1)\n",
    "    for m in range(3): # For each 3x3 square\n",
    "        for n in range(3):\n",
    "            seen = {}\n",
    "            for i in range(3 * n, 3 * (n + 1)):  # Check cells in 3x3 square\n",
    "                for j in range(3 * m, 3 * (m + 1)):\n",
    "                    if chromosome[j][i] in seen:\n",
    "                        seen[chromosome[j][i]] += 1\n",
    "                    else:\n",
    "                        seen[chromosome[j][i]] = 1\n",
    "            for key in seen: # Subtract fitness for repeated numbers\n",
    "                fitness -= (seen[key] - 1)\n",
    "    return fitness"
   ]
  },
  {
   "cell_type": "code",
   "execution_count": 19,
   "metadata": {
    "ExecuteTime": {
     "end_time": "2023-05-29T11:29:14.990855629Z",
     "start_time": "2023-05-29T11:29:14.974964813Z"
    },
    "collapsed": false
   },
   "outputs": [
    {
     "name": "stdout",
     "output_type": "stream",
     "text": [
      "-55\n"
     ]
    }
   ],
   "source": [
    "ch = make_chromosome()\n",
    "print(get_fitness(ch))\n",
    "\n",
    "def pch(ch):\n",
    "    for i in range(9):\n",
    "        for j in range(9):\n",
    "            print(ch[i][j], end=\" \")\n",
    "        print(\"\")\n"
   ]
  },
  {
   "cell_type": "markdown",
   "metadata": {
    "collapsed": false
   },
   "source": [
    "## Part 4: Crossover and Mutation"
   ]
  },
  {
   "cell_type": "markdown",
   "id": "0b3165a6",
   "metadata": {},
   "source": [
    "### Crossover"
   ]
  },
  {
   "cell_type": "code",
   "execution_count": 20,
   "id": "5b5e5769",
   "metadata": {
    "ExecuteTime": {
     "end_time": "2023-05-29T11:29:16.524690361Z",
     "start_time": "2023-05-29T11:29:16.506882079Z"
    }
   },
   "outputs": [],
   "source": [
    "def uniform_crossover(ch1, ch2):\n",
    "    new_child_1 = []\n",
    "    new_child_2 = []\n",
    "    for i in range(9):\n",
    "        x = rndm.randint(0, 1)\n",
    "        if x == 1:\n",
    "            new_child_1.append(ch1[i])\n",
    "            new_child_2.append(ch2[i])\n",
    "        elif x == 0:\n",
    "            new_child_2.append(ch1[i])\n",
    "            new_child_1.append(ch2[i])\n",
    "    return new_child_1, new_child_2\n",
    "\n",
    "def first_difference(g1, g2):\n",
    "    for i in range(9):\n",
    "        if g1[i] != g2[i]:\n",
    "            return i\n",
    "    return -1\n",
    "\n",
    "def cycle_crossover(ch1, ch2):\n",
    "    new_child_1 = []\n",
    "    new_child_2 = [] \n",
    "    for i in range(9):\n",
    "        mapp = {}\n",
    "        for j in range(9):\n",
    "            mapp[ch1[i][j]] = j\n",
    "        k = first_difference(ch1[i], ch2[i])\n",
    "        if k != -1:\n",
    "            end = k\n",
    "            gene_1 = ch1[i].copy()\n",
    "            gene_2 = ch2[i].copy()\n",
    "            while True:\n",
    "                gene_1[k], gene_2[k] = gene_2[k], gene_1[k]\n",
    "                k = mapp[gene_1[k]]     \n",
    "                if k == end:\n",
    "                    break  \n",
    "            new_child_1.append(gene_1)\n",
    "            new_child_2.append(gene_2)\n",
    "        else:\n",
    "            new_child_1.append(ch1[i])\n",
    "            new_child_2.append(ch2[i])\n",
    "    return new_child_1, new_child_2"
   ]
  },
  {
   "cell_type": "markdown",
   "id": "bee65fa1",
   "metadata": {},
   "source": [
    "### Mutation"
   ]
  },
  {
   "cell_type": "code",
   "execution_count": 21,
   "id": "5e4b77f2",
   "metadata": {
    "ExecuteTime": {
     "end_time": "2023-05-29T11:29:17.334132855Z",
     "start_time": "2023-05-29T11:29:17.310513750Z"
    }
   },
   "outputs": [],
   "source": [
    "def random_mutation(ch, pm, initial):\n",
    "    for i in range(9):\n",
    "        x = rndm.randint(0, 100)\n",
    "        if x < pm * 100:\n",
    "            ch[i] = make_gene(initial[i])\n",
    "    return ch\n",
    "\n",
    "def scramble_mutation(ch, pm, initial):\n",
    "    for i in range(9):\n",
    "        x = rndm.randint(0, 100)\n",
    "        if x < pm * 100:\n",
    "            start = rndm.randint(0, 7)\n",
    "            end = rndm.randint(start + 1, 8)\n",
    "            ch[i][start:end + 1] = rndm.sample(ch[i][start:end + 1], end - start + 1)\n",
    "            ch[i] = check_initial(ch[i], initial[i])\n",
    "    return ch\n",
    "\n",
    "def insert_mutation(ch, pm, initial):\n",
    "    for i in range(9):\n",
    "        x = rndm.randint(0, 100)\n",
    "        if x < pm * 100:\n",
    "            idx = rndm.randint(0, 8)\n",
    "            new_idx = rndm.randint(0, 8)\n",
    "            while idx == new_idx:\n",
    "                new_idx = rndm.randint(0, 8)\n",
    "            temp = ch[i][idx]\n",
    "            ch[i].pop(idx)\n",
    "            ch[i].insert(new_idx, temp)\n",
    "            ch[i] = check_initial(ch[i], initial[i])\n",
    "    return ch"
   ]
  },
  {
   "cell_type": "markdown",
   "id": "f1078fee",
   "metadata": {},
   "source": [
    "## Part 5: Implementing The Genetic Algorithm"
   ]
  },
  {
   "cell_type": "markdown",
   "metadata": {
    "collapsed": false
   },
   "source": [
    "Read the puzzle from the given address\n"
   ]
  },
  {
   "cell_type": "code",
   "execution_count": 22,
   "id": "1615f3a0",
   "metadata": {
    "ExecuteTime": {
     "end_time": "2023-05-29T11:29:18.596156848Z",
     "start_time": "2023-05-29T11:29:18.557229273Z"
    }
   },
   "outputs": [],
   "source": [
    "def read_puzzle(address):\n",
    "    puzzle = []\n",
    "    f = open(address, 'r')\n",
    "    for row in f:\n",
    "        temp = row.split()\n",
    "        puzzle.append([int(c) for c in temp])\n",
    "    return puzzle"
   ]
  },
  {
   "cell_type": "markdown",
   "metadata": {
    "collapsed": false
   },
   "source": [
    "Get the mating pool using the random method"
   ]
  },
  {
   "cell_type": "code",
   "execution_count": 23,
   "id": "78ad13db",
   "metadata": {
    "ExecuteTime": {
     "end_time": "2023-05-29T11:29:18.872305918Z",
     "start_time": "2023-05-29T11:29:18.857373117Z"
    }
   },
   "outputs": [],
   "source": [
    "def r_get_mating_pool(population):\n",
    "    fitness_list = []\n",
    "    pool = []\n",
    "    for chromosome in population:\n",
    "        fitness = get_fitness(chromosome)\n",
    "        fitness_list.append((fitness, chromosome))\n",
    "    fitness_list.sort()\n",
    "    weight = list(range(1, len(fitness_list) + 1))\n",
    "    for _ in range(len(population)):\n",
    "        ch = rndm.choices(fitness_list, weight)[0]\n",
    "        pool.append(ch[1])\n",
    "    return pool\n"
   ]
  },
  {
   "cell_type": "markdown",
   "metadata": {
    "collapsed": false
   },
   "source": [
    "Generate the offsprings from the mating pool"
   ]
  },
  {
   "cell_type": "code",
   "execution_count": 24,
   "id": "a0407dc1",
   "metadata": {
    "ExecuteTime": {
     "end_time": "2023-05-29T11:29:19.491939593Z",
     "start_time": "2023-05-29T11:29:19.472757374Z"
    }
   },
   "outputs": [],
   "source": [
    "def get_offsprings(population, initial, pm, pc):\n",
    "    new_pool = []\n",
    "    i = 0\n",
    "    while i < len(population):\n",
    "        ch1 = population[i]\n",
    "        ch2 = population[(i + 1) % len(population)]\n",
    "        x = rndm.randint(0, 100)\n",
    "        if x < pc * 100:\n",
    "            algorithm = rndm.randint(0, 1)\n",
    "            if algorithm == 0:\n",
    "                ch1, ch2 = uniform_crossover(ch1, ch2)\n",
    "            else:\n",
    "                ch1, ch2 = cycle_crossover(ch1, ch2)\n",
    "        algorithm = rndm.randint(0, 2)\n",
    "        if algorithm == 0:\n",
    "            new_pool.append(random_mutation(ch1, pm, initial))\n",
    "            new_pool.append(random_mutation(ch2, pm, initial))\n",
    "        elif algorithm == 1:\n",
    "            new_pool.append(scramble_mutation(ch1, pm, initial))\n",
    "            new_pool.append(scramble_mutation(ch2, pm, initial))\n",
    "        else:\n",
    "            new_pool.append(insert_mutation(ch1, pm, initial))\n",
    "            new_pool.append(insert_mutation(ch2, pm, initial))\n",
    "        i += 2\n",
    "    return new_pool"
   ]
  },
  {
   "cell_type": "code",
   "execution_count": 25,
   "id": "969288f1",
   "metadata": {
    "ExecuteTime": {
     "end_time": "2023-05-29T11:29:20.023181388Z",
     "start_time": "2023-05-29T11:29:19.999854735Z"
    }
   },
   "outputs": [],
   "source": [
    "# Population size\n",
    "POPULATION = 1000\n",
    "\n",
    "# Number of generations\n",
    "REPETITION = 1000\n",
    "\n",
    "# Probability of mutation\n",
    "PM = 0.1\n",
    "\n",
    "# Probability of crossover\n",
    "PC = 0.95\n",
    "\n",
    "# Main genetic algorithm function\n",
    "def genetic_algorithm(initial_file):\n",
    "    initial = read_puzzle(initial_file)\n",
    "    population = make_population(POPULATION, initial)\n",
    "    for _ in range(REPETITION):\n",
    "        mating_pool = r_get_mating_pool(population)\n",
    "        rndm.shuffle(mating_pool)\n",
    "        population = get_offsprings(mating_pool, initial, PM, PC)\n",
    "        fit = [get_fitness(c) for c in population]\n",
    "        m = max(fit)\n",
    "        if m == 0:\n",
    "            return population\n",
    "    return population"
   ]
  },
  {
   "cell_type": "markdown",
   "metadata": {
    "collapsed": false
   },
   "source": [
    "Run the algorithm and time it"
   ]
  },
  {
   "cell_type": "code",
   "execution_count": 26,
   "id": "ed21c4fa",
   "metadata": {
    "ExecuteTime": {
     "end_time": "2023-05-29T11:33:28.432304999Z",
     "start_time": "2023-05-29T11:30:30.731602922Z"
    }
   },
   "outputs": [
    {
     "ename": "KeyboardInterrupt",
     "evalue": "",
     "output_type": "error",
     "traceback": [
      "\u001b[1;31m---------------------------------------------------------------------------\u001b[0m",
      "\u001b[1;31mKeyboardInterrupt\u001b[0m                         Traceback (most recent call last)",
      "\u001b[1;32mc:\\Users\\a\\Documents\\TriTueNhanTao\\Genetic-Algorithm-Sudoku\\genetic-algorithm-main\\ProjectAI.ipynb Cell 25\u001b[0m line \u001b[0;36m2\n\u001b[0;32m      <a href='vscode-notebook-cell:/c%3A/Users/a/Documents/TriTueNhanTao/Genetic-Algorithm-Sudoku/genetic-algorithm-main/ProjectAI.ipynb#X33sZmlsZQ%3D%3D?line=0'>1</a>\u001b[0m tic \u001b[39m=\u001b[39m time\u001b[39m.\u001b[39mtime()\n\u001b[1;32m----> <a href='vscode-notebook-cell:/c%3A/Users/a/Documents/TriTueNhanTao/Genetic-Algorithm-Sudoku/genetic-algorithm-main/ProjectAI.ipynb#X33sZmlsZQ%3D%3D?line=1'>2</a>\u001b[0m r \u001b[39m=\u001b[39m genetic_algorithm(\u001b[39m\"\u001b[39;49m\u001b[39m./sample_sudoku/Test2.txt\u001b[39;49m\u001b[39m\"\u001b[39;49m)\n\u001b[0;32m      <a href='vscode-notebook-cell:/c%3A/Users/a/Documents/TriTueNhanTao/Genetic-Algorithm-Sudoku/genetic-algorithm-main/ProjectAI.ipynb#X33sZmlsZQ%3D%3D?line=2'>3</a>\u001b[0m toc \u001b[39m=\u001b[39m time\u001b[39m.\u001b[39mtime()\n\u001b[0;32m      <a href='vscode-notebook-cell:/c%3A/Users/a/Documents/TriTueNhanTao/Genetic-Algorithm-Sudoku/genetic-algorithm-main/ProjectAI.ipynb#X33sZmlsZQ%3D%3D?line=3'>4</a>\u001b[0m \u001b[39mprint\u001b[39m(\u001b[39m\"\u001b[39m\u001b[39mtime_taken: \u001b[39m\u001b[39m\"\u001b[39m, toc \u001b[39m-\u001b[39m tic)\n",
      "\u001b[1;32mc:\\Users\\a\\Documents\\TriTueNhanTao\\Genetic-Algorithm-Sudoku\\genetic-algorithm-main\\ProjectAI.ipynb Cell 25\u001b[0m line \u001b[0;36m1\n\u001b[0;32m     <a href='vscode-notebook-cell:/c%3A/Users/a/Documents/TriTueNhanTao/Genetic-Algorithm-Sudoku/genetic-algorithm-main/ProjectAI.ipynb#X33sZmlsZQ%3D%3D?line=15'>16</a>\u001b[0m population \u001b[39m=\u001b[39m make_population(POPULATION, initial)\n\u001b[0;32m     <a href='vscode-notebook-cell:/c%3A/Users/a/Documents/TriTueNhanTao/Genetic-Algorithm-Sudoku/genetic-algorithm-main/ProjectAI.ipynb#X33sZmlsZQ%3D%3D?line=16'>17</a>\u001b[0m \u001b[39mfor\u001b[39;00m _ \u001b[39min\u001b[39;00m \u001b[39mrange\u001b[39m(REPETITION):\n\u001b[1;32m---> <a href='vscode-notebook-cell:/c%3A/Users/a/Documents/TriTueNhanTao/Genetic-Algorithm-Sudoku/genetic-algorithm-main/ProjectAI.ipynb#X33sZmlsZQ%3D%3D?line=17'>18</a>\u001b[0m     mating_pool \u001b[39m=\u001b[39m r_get_mating_pool(population)\n\u001b[0;32m     <a href='vscode-notebook-cell:/c%3A/Users/a/Documents/TriTueNhanTao/Genetic-Algorithm-Sudoku/genetic-algorithm-main/ProjectAI.ipynb#X33sZmlsZQ%3D%3D?line=18'>19</a>\u001b[0m     rndm\u001b[39m.\u001b[39mshuffle(mating_pool)\n\u001b[0;32m     <a href='vscode-notebook-cell:/c%3A/Users/a/Documents/TriTueNhanTao/Genetic-Algorithm-Sudoku/genetic-algorithm-main/ProjectAI.ipynb#X33sZmlsZQ%3D%3D?line=19'>20</a>\u001b[0m     population \u001b[39m=\u001b[39m get_offsprings(mating_pool, initial, PM, PC)\n",
      "\u001b[1;32mc:\\Users\\a\\Documents\\TriTueNhanTao\\Genetic-Algorithm-Sudoku\\genetic-algorithm-main\\ProjectAI.ipynb Cell 25\u001b[0m line \u001b[0;36m8\n\u001b[0;32m      <a href='vscode-notebook-cell:/c%3A/Users/a/Documents/TriTueNhanTao/Genetic-Algorithm-Sudoku/genetic-algorithm-main/ProjectAI.ipynb#X33sZmlsZQ%3D%3D?line=5'>6</a>\u001b[0m     fitness_list\u001b[39m.\u001b[39mappend((fitness, chromosome))\n\u001b[0;32m      <a href='vscode-notebook-cell:/c%3A/Users/a/Documents/TriTueNhanTao/Genetic-Algorithm-Sudoku/genetic-algorithm-main/ProjectAI.ipynb#X33sZmlsZQ%3D%3D?line=6'>7</a>\u001b[0m fitness_list\u001b[39m.\u001b[39msort()\n\u001b[1;32m----> <a href='vscode-notebook-cell:/c%3A/Users/a/Documents/TriTueNhanTao/Genetic-Algorithm-Sudoku/genetic-algorithm-main/ProjectAI.ipynb#X33sZmlsZQ%3D%3D?line=7'>8</a>\u001b[0m weight \u001b[39m=\u001b[39m \u001b[39mlist\u001b[39m(\u001b[39mrange\u001b[39m(\u001b[39m1\u001b[39m, \u001b[39mlen\u001b[39m(fitness_list) \u001b[39m+\u001b[39m \u001b[39m1\u001b[39m))\n\u001b[0;32m      <a href='vscode-notebook-cell:/c%3A/Users/a/Documents/TriTueNhanTao/Genetic-Algorithm-Sudoku/genetic-algorithm-main/ProjectAI.ipynb#X33sZmlsZQ%3D%3D?line=8'>9</a>\u001b[0m \u001b[39mfor\u001b[39;00m _ \u001b[39min\u001b[39;00m \u001b[39mrange\u001b[39m(\u001b[39mlen\u001b[39m(population)):\n\u001b[0;32m     <a href='vscode-notebook-cell:/c%3A/Users/a/Documents/TriTueNhanTao/Genetic-Algorithm-Sudoku/genetic-algorithm-main/ProjectAI.ipynb#X33sZmlsZQ%3D%3D?line=9'>10</a>\u001b[0m     ch \u001b[39m=\u001b[39m rndm\u001b[39m.\u001b[39mchoices(fitness_list, weight)[\u001b[39m0\u001b[39m]\n",
      "\u001b[1;31mKeyboardInterrupt\u001b[0m: "
     ]
    }
   ],
   "source": [
    "tic = time.time()\n",
    "r = genetic_algorithm(\"./sample_sudoku/Test2.txt\")\n",
    "toc = time.time()\n",
    "print(\"time_taken: \", toc - tic)\n",
    "fit = [get_fitness(c) for c in r]\n",
    "m = max(fit)\n",
    "print(max(fit))\n",
    "\n",
    "# Print the chromosome with the highest fitness\n",
    "for c in r:\n",
    "    if get_fitness(c) == m:\n",
    "        pch(c)\n",
    "        break"
   ]
  }
 ],
 "metadata": {
  "kernelspec": {
   "display_name": "Python 3 (ipykernel)",
   "language": "python",
   "name": "python3"
  },
  "language_info": {
   "codemirror_mode": {
    "name": "ipython",
    "version": 3
   },
   "file_extension": ".py",
   "mimetype": "text/x-python",
   "name": "python",
   "nbconvert_exporter": "python",
   "pygments_lexer": "ipython3",
   "version": "3.11.6"
  }
 },
 "nbformat": 4,
 "nbformat_minor": 5
}
